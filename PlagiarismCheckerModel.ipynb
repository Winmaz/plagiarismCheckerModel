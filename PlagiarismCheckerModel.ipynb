{
  "nbformat": 4,
  "nbformat_minor": 0,
  "metadata": {
    "accelerator": "GPU",
    "colab": {
      "name": "Copy of PlagiarismCheckerModel.ipynb",
      "provenance": [],
      "collapsed_sections": []
    },
    "kernelspec": {
      "display_name": "Python 3",
      "language": "python",
      "name": "python3"
    },
    "language_info": {
      "codemirror_mode": {
        "name": "ipython",
        "version": 3
      },
      "file_extension": ".py",
      "mimetype": "text/x-python",
      "name": "python",
      "nbconvert_exporter": "python",
      "pygments_lexer": "ipython3",
      "version": "3.8.8"
    }
  },
  "cells": [
    {
      "cell_type": "markdown",
      "metadata": {
        "id": "YnbQ0PNbcr4i"
      },
      "source": [
        "# **R179769T Ruvimbo Manuhwa**\n",
        "# **R175786E MAZHUDE WINNET**\n",
        "# **R175791S CHIWANDIRE SIBONGILE**"
      ]
    },
    {
      "cell_type": "markdown",
      "metadata": {
        "id": "foamUXrpeJZ0"
      },
      "source": [
        "## Setup google drive"
      ]
    },
    {
      "cell_type": "code",
      "metadata": {
        "id": "JpIFGk0Ec62a",
        "colab": {
          "base_uri": "https://localhost:8080/"
        },
        "outputId": "b14e4cac-7bf5-4e18-def9-1e0c00b8f646"
      },
      "source": [
        "from google.colab import drive\n",
        "drive.mount('/content/drive')"
      ],
      "execution_count": null,
      "outputs": [
        {
          "output_type": "stream",
          "text": [
            "Mounted at /content/drive\n"
          ],
          "name": "stdout"
        }
      ]
    },
    {
      "cell_type": "markdown",
      "metadata": {
        "id": "2oM-UssTeYO7"
      },
      "source": [
        "# Plagiarism Checker"
      ]
    },
    {
      "cell_type": "code",
      "metadata": {
        "id": "4qS7vExrUqP7"
      },
      "source": [
        "%matplotlib inline\n",
        "from sklearn.model_selection import train_test_split\n",
        "from sklearn import metrics\n",
        "from sklearn.metrics import classification_report\n",
        "from tensorflow.keras.utils import plot_model\n",
        "from keras.layers import concatenate, merge\n",
        "from keras.preprocessing.text import Tokenizer\n",
        "from keras.preprocessing.sequence import pad_sequences\n",
        "from keras.layers import Input, Embedding, Activation, Flatten, Dense, LSTM\n",
        "from keras.layers import Conv1D, MaxPooling1D, Dropout, UpSampling1D, BatchNormalization\n",
        "from keras.models import Model, load_model\n",
        "# from keras.utils import plot_model\n",
        "from keras.optimizers import RMSprop\n",
        "from keras.callbacks import TensorBoard, ModelCheckpoint, EarlyStopping, ReduceLROnPlateau, Callback\n",
        "from keras.utils.np_utils import to_categorical\n",
        "\n",
        "import os\n",
        "import io\n",
        "import numpy as np\n",
        "import pandas as pd\n",
        "import matplotlib.pyplot as plt\n",
        "import seaborn as sns # Plot statistical data such as Annotated heatmaps\n",
        "import math\n",
        "import time, datetime\n"
      ],
      "execution_count": null,
      "outputs": []
    },
    {
      "cell_type": "code",
      "metadata": {
        "colab": {
          "base_uri": "https://localhost:8080/"
        },
        "id": "IZvdtDtnci2Q",
        "outputId": "df7edf3e-0a9c-4148-bcb0-56177034bb22"
      },
      "source": [
        "TENSORBOARD_LOGS_PATH = '/content/drive/MyDrive/PlagiarismChecker/tflog'\n",
        "CHECKPOINT_FOLDER_PATH = '/content/drive/MyDrive/PlagiarismChecker/weights.{epoch:02d}-{val_loss:.2f}.hdf5'\n",
        "\n",
        "\n",
        "MAIN_FOLDER = ('/content/drive/MyDrive/PlagiarismChecker/{}/').format(datetime.datetime.now().isoformat())\n",
        "\n",
        "\n",
        "ENCODER_MODEL_PATH = '/content/drive/MyDrive/PlagiarismChecker/encoder_model3.h5'\n",
        "ENCODER_MODEL_WEIGHTS_PATH = '/content/drive/MyDrive/PlagiarismChecker/encoder_model_copy-weights3.h5'\n",
        "CHECK_POINT_PATH = 'weights.best.hdf5'\n",
        "\n",
        "\n",
        "DATASET_PATH = \"/content/drive/MyDrive/PlagiarismChecker/dataset3.csv\"\n",
        "\n",
        "optimizer = 'adam'\n",
        "loss = 'binary_crossentropy'\n",
        "activation = 'relu'\n",
        "batch_size = 64\n",
        "epochs = 50\n",
        "dropout = 0.2\n",
        "\n",
        "\n",
        "print(MAIN_FOLDER)\n",
        "\n",
        "main_information = list()"
      ],
      "execution_count": null,
      "outputs": [
        {
          "output_type": "stream",
          "text": [
            "/content/drive/MyDrive/PlagiarismChecker/2021-07-13T14:27:50.835575/\n"
          ],
          "name": "stdout"
        }
      ]
    },
    {
      "cell_type": "code",
      "metadata": {
        "id": "jjSLnv59QVZ2"
      },
      "source": [
        "def save_information(information):\n",
        "  path = MAIN_FOLDER + 'main_info.txt'\n",
        "  with open(path, 'w') as fp:\n",
        "    fp.write(\"\\n\".join(information))\n",
        "  print(\"Saved into {}\".format(path))"
      ],
      "execution_count": null,
      "outputs": []
    },
    {
      "cell_type": "markdown",
      "metadata": {
        "id": "NpwcsSoUrKKQ"
      },
      "source": [
        "# Loading Data"
      ]
    },
    {
      "cell_type": "code",
      "metadata": {
        "colab": {
          "base_uri": "https://localhost:8080/"
        },
        "id": "rAz3uPicdrxG",
        "outputId": "de1ffb45-b5b3-4265-9d67-89a636417992"
      },
      "source": [
        "dataset_df = pd.read_csv(DATASET_PATH, header=None)\n",
        "main_information.append(DATASET_PATH)\n",
        "dataset_df.info()"
      ],
      "execution_count": null,
      "outputs": [
        {
          "output_type": "stream",
          "text": [
            "<class 'pandas.core.frame.DataFrame'>\n",
            "RangeIndex: 10126 entries, 0 to 10125\n",
            "Data columns (total 3 columns):\n",
            " #   Column  Non-Null Count  Dtype \n",
            "---  ------  --------------  ----- \n",
            " 0   0       10126 non-null  int64 \n",
            " 1   1       10126 non-null  object\n",
            " 2   2       10126 non-null  object\n",
            "dtypes: int64(1), object(2)\n",
            "memory usage: 237.5+ KB\n"
          ],
          "name": "stdout"
        }
      ]
    },
    {
      "cell_type": "code",
      "metadata": {
        "id": "z5zrBWbikL5n"
      },
      "source": [
        "# Store dataset info into main_info\n",
        "buf = io.StringIO()\n",
        "dataset_df.info(buf=buf)\n",
        "info = buf.getvalue()\n",
        "main_information.append(info)"
      ],
      "execution_count": null,
      "outputs": []
    },
    {
      "cell_type": "code",
      "metadata": {
        "colab": {
          "base_uri": "https://localhost:8080/"
        },
        "id": "pLo-gvgysuBU",
        "outputId": "911e5957-15a6-4cbc-e218-cfffddd26d69"
      },
      "source": [
        "dataset_df = dataset_df.sample(frac=1).reset_index(drop=True)\n",
        "\n",
        "dataset_df.info()"
      ],
      "execution_count": null,
      "outputs": [
        {
          "output_type": "stream",
          "text": [
            "<class 'pandas.core.frame.DataFrame'>\n",
            "RangeIndex: 10126 entries, 0 to 10125\n",
            "Data columns (total 3 columns):\n",
            " #   Column  Non-Null Count  Dtype \n",
            "---  ------  --------------  ----- \n",
            " 0   0       10126 non-null  int64 \n",
            " 1   1       10126 non-null  object\n",
            " 2   2       10126 non-null  object\n",
            "dtypes: int64(1), object(2)\n",
            "memory usage: 237.5+ KB\n"
          ],
          "name": "stdout"
        }
      ]
    },
    {
      "cell_type": "code",
      "metadata": {
        "colab": {
          "base_uri": "https://localhost:8080/"
        },
        "id": "oBYJlt7x6G0_",
        "outputId": "31d1ad2c-4b5e-4bd6-bd64-81ec336c9442"
      },
      "source": [
        "print(dataset_df[0].value_counts())\n",
        "y = dataset_df[0]"
      ],
      "execution_count": null,
      "outputs": [
        {
          "output_type": "stream",
          "text": [
            "1    5089\n",
            "0    5037\n",
            "Name: 0, dtype: int64\n"
          ],
          "name": "stdout"
        }
      ]
    },
    {
      "cell_type": "code",
      "metadata": {
        "id": "sNM9r1fdrY4Q"
      },
      "source": [
        "# Split dataset into train, test, labels\n",
        "train_left, test_left, train_right, test_right = train_test_split(dataset_df[1].values, dataset_df[2].values, test_size=0.2, shuffle=False)\n",
        "train_labels, test_labels = train_test_split(y, test_size=0.2, shuffle=False)\n",
        "# train_labels, test_labels = train_test_split(dataset_df[0].values, test_size=0.2, shuffle=False)\n",
        "\n",
        "# Copy of original labels which allows us to see wrong predictions\n",
        "test_left_original, test_right_original = test_left, test_right"
      ],
      "execution_count": null,
      "outputs": []
    },
    {
      "cell_type": "code",
      "metadata": {
        "colab": {
          "base_uri": "https://localhost:8080/"
        },
        "id": "r9p4uyi6ujXY",
        "outputId": "710579f8-89e1-4c85-8a4a-d7ed69b84e76"
      },
      "source": [
        "train, valid = train_test_split(train_left, test_size=0.2)\n",
        "trs = \"Train set: {}\\n\".format(len(train))\n",
        "vas = \"Valid set: {}\\n\".format(len(valid))\n",
        "tes = \"Test set: {}\\n\".format(len(test_left))\n",
        "tot = \"Total: {}\\n\".format(len(train) + len(valid) + len(test_left))\n",
        "print(trs, vas, tes, tot)\n",
        "main_information.append(trs + vas + tes + tot)"
      ],
      "execution_count": null,
      "outputs": [
        {
          "output_type": "stream",
          "text": [
            "Train set: 6480\n",
            " Valid set: 1620\n",
            " Test set: 2026\n",
            " Total: 10126\n",
            "\n"
          ],
          "name": "stdout"
        }
      ]
    },
    {
      "cell_type": "code",
      "metadata": {
        "colab": {
          "base_uri": "https://localhost:8080/"
        },
        "id": "v1YJz1pGu6Zq",
        "outputId": "fb43caa7-43ff-490e-e218-f6e05ec43cbc"
      },
      "source": [
        "# print(len(test_left))\n",
        "# print(len(test_right))\n",
        "# print(len(test_labels))\n",
        "# print(len(train_left))\n",
        "# print(len(train_right))\n",
        "print(len(train_labels))\n",
        "# train_labels"
      ],
      "execution_count": null,
      "outputs": [
        {
          "output_type": "stream",
          "text": [
            "8100\n"
          ],
          "name": "stdout"
        }
      ]
    },
    {
      "cell_type": "markdown",
      "metadata": {
        "id": "XWXpEeDD6GjB"
      },
      "source": [
        "# Data Preprocessing"
      ]
    },
    {
      "cell_type": "code",
      "metadata": {
        "id": "i1M4SYdw7aOZ"
      },
      "source": [
        "# Create tokenizer\n",
        "tk = Tokenizer(num_words=None, char_level=True, oov_token='UNK')"
      ],
      "execution_count": null,
      "outputs": []
    },
    {
      "cell_type": "code",
      "metadata": {
        "id": "ksh9GoJ37t0o"
      },
      "source": [
        "def get_alphabet():\n",
        "    ''' Create alphabet from ASCII character '''\n",
        "    char_dict = {}\n",
        "    for num in range(127):\n",
        "        char_dict[chr(num)] = num + 1\n",
        "    return char_dict"
      ],
      "execution_count": null,
      "outputs": []
    },
    {
      "cell_type": "code",
      "metadata": {
        "colab": {
          "base_uri": "https://localhost:8080/"
        },
        "id": "Vy_AAn3b7uCY",
        "outputId": "7eab44cc-8686-46ea-deb9-b4c8321c4bed"
      },
      "source": [
        "# Creating Alphabet Vocabulary\n",
        "char_dict = get_alphabet()\n",
        "print(char_dict)"
      ],
      "execution_count": null,
      "outputs": [
        {
          "output_type": "stream",
          "text": [
            "{'\\x00': 1, '\\x01': 2, '\\x02': 3, '\\x03': 4, '\\x04': 5, '\\x05': 6, '\\x06': 7, '\\x07': 8, '\\x08': 9, '\\t': 10, '\\n': 11, '\\x0b': 12, '\\x0c': 13, '\\r': 14, '\\x0e': 15, '\\x0f': 16, '\\x10': 17, '\\x11': 18, '\\x12': 19, '\\x13': 20, '\\x14': 21, '\\x15': 22, '\\x16': 23, '\\x17': 24, '\\x18': 25, '\\x19': 26, '\\x1a': 27, '\\x1b': 28, '\\x1c': 29, '\\x1d': 30, '\\x1e': 31, '\\x1f': 32, ' ': 33, '!': 34, '\"': 35, '#': 36, '$': 37, '%': 38, '&': 39, \"'\": 40, '(': 41, ')': 42, '*': 43, '+': 44, ',': 45, '-': 46, '.': 47, '/': 48, '0': 49, '1': 50, '2': 51, '3': 52, '4': 53, '5': 54, '6': 55, '7': 56, '8': 57, '9': 58, ':': 59, ';': 60, '<': 61, '=': 62, '>': 63, '?': 64, '@': 65, 'A': 66, 'B': 67, 'C': 68, 'D': 69, 'E': 70, 'F': 71, 'G': 72, 'H': 73, 'I': 74, 'J': 75, 'K': 76, 'L': 77, 'M': 78, 'N': 79, 'O': 80, 'P': 81, 'Q': 82, 'R': 83, 'S': 84, 'T': 85, 'U': 86, 'V': 87, 'W': 88, 'X': 89, 'Y': 90, 'Z': 91, '[': 92, '\\\\': 93, ']': 94, '^': 95, '_': 96, '`': 97, 'a': 98, 'b': 99, 'c': 100, 'd': 101, 'e': 102, 'f': 103, 'g': 104, 'h': 105, 'i': 106, 'j': 107, 'k': 108, 'l': 109, 'm': 110, 'n': 111, 'o': 112, 'p': 113, 'q': 114, 'r': 115, 's': 116, 't': 117, 'u': 118, 'v': 119, 'w': 120, 'x': 121, 'y': 122, 'z': 123, '{': 124, '|': 125, '}': 126, '~': 127}\n"
          ],
          "name": "stdout"
        }
      ]
    },
    {
      "cell_type": "code",
      "metadata": {
        "colab": {
          "base_uri": "https://localhost:8080/"
        },
        "id": "ckqPHvD17uNJ",
        "outputId": "472fe6d1-deb3-41f3-a583-712fc87b8d44"
      },
      "source": [
        "\n",
        "tk.word_index = char_dict.copy()\n",
        "tk.word_index[tk.oov_token] = max(char_dict.values()) + 1\n",
        "print(tk.word_index)"
      ],
      "execution_count": null,
      "outputs": [
        {
          "output_type": "stream",
          "text": [
            "{'\\x00': 1, '\\x01': 2, '\\x02': 3, '\\x03': 4, '\\x04': 5, '\\x05': 6, '\\x06': 7, '\\x07': 8, '\\x08': 9, '\\t': 10, '\\n': 11, '\\x0b': 12, '\\x0c': 13, '\\r': 14, '\\x0e': 15, '\\x0f': 16, '\\x10': 17, '\\x11': 18, '\\x12': 19, '\\x13': 20, '\\x14': 21, '\\x15': 22, '\\x16': 23, '\\x17': 24, '\\x18': 25, '\\x19': 26, '\\x1a': 27, '\\x1b': 28, '\\x1c': 29, '\\x1d': 30, '\\x1e': 31, '\\x1f': 32, ' ': 33, '!': 34, '\"': 35, '#': 36, '$': 37, '%': 38, '&': 39, \"'\": 40, '(': 41, ')': 42, '*': 43, '+': 44, ',': 45, '-': 46, '.': 47, '/': 48, '0': 49, '1': 50, '2': 51, '3': 52, '4': 53, '5': 54, '6': 55, '7': 56, '8': 57, '9': 58, ':': 59, ';': 60, '<': 61, '=': 62, '>': 63, '?': 64, '@': 65, 'A': 66, 'B': 67, 'C': 68, 'D': 69, 'E': 70, 'F': 71, 'G': 72, 'H': 73, 'I': 74, 'J': 75, 'K': 76, 'L': 77, 'M': 78, 'N': 79, 'O': 80, 'P': 81, 'Q': 82, 'R': 83, 'S': 84, 'T': 85, 'U': 86, 'V': 87, 'W': 88, 'X': 89, 'Y': 90, 'Z': 91, '[': 92, '\\\\': 93, ']': 94, '^': 95, '_': 96, '`': 97, 'a': 98, 'b': 99, 'c': 100, 'd': 101, 'e': 102, 'f': 103, 'g': 104, 'h': 105, 'i': 106, 'j': 107, 'k': 108, 'l': 109, 'm': 110, 'n': 111, 'o': 112, 'p': 113, 'q': 114, 'r': 115, 's': 116, 't': 117, 'u': 118, 'v': 119, 'w': 120, 'x': 121, 'y': 122, 'z': 123, '{': 124, '|': 125, '}': 126, '~': 127, 'UNK': 128}\n"
          ],
          "name": "stdout"
        }
      ]
    },
    {
      "cell_type": "code",
      "metadata": {
        "colab": {
          "base_uri": "https://localhost:8080/"
        },
        "id": "WuCIBWfC7yxe",
        "outputId": "d2dab5c3-9cbd-479b-a76f-ecdccdd07831"
      },
      "source": [
        "vocab_size = len(tk.word_index)\n",
        "print(vocab_size)"
      ],
      "execution_count": null,
      "outputs": [
        {
          "output_type": "stream",
          "text": [
            "128\n"
          ],
          "name": "stdout"
        }
      ]
    },
    {
      "cell_type": "code",
      "metadata": {
        "id": "v1L8OdqF4V1w"
      },
      "source": [
        "# Convert string to index \n",
        "train_sequences_left = tk.texts_to_sequences(train_left)\n",
        "test_sequences_left = tk.texts_to_sequences(test_left)\n",
        "\n",
        "# Padding\n",
        "train_left = pad_sequences(train_sequences_left, maxlen=200, padding='post', truncating='post')\n",
        "test_left = pad_sequences(test_sequences_left, maxlen=200, padding='post', truncating='post')\n",
        "\n",
        "# Convert to numpy array\n",
        "train_left = np.array(train_left, dtype='float32')\n",
        "test_left = np.array(test_left, dtype='float32')"
      ],
      "execution_count": null,
      "outputs": []
    },
    {
      "cell_type": "code",
      "metadata": {
        "id": "l2ayOU1M6L8i"
      },
      "source": [
        "# Convert string to index \n",
        "train_sequences_right = tk.texts_to_sequences(train_right)\n",
        "test_sequences_right = tk.texts_to_sequences(test_right)\n",
        "\n",
        "# Padding\n",
        "train_right = pad_sequences(train_sequences_right, maxlen=200, padding='post', truncating='post')\n",
        "test_right = pad_sequences(test_sequences_right, maxlen=200, padding='post', truncating='post')\n",
        "\n",
        "# Convert to numpy array\n",
        "train_right = np.array(train_right, dtype='float32')\n",
        "test_right = np.array(test_right, dtype='float32')"
      ],
      "execution_count": null,
      "outputs": []
    },
    {
      "cell_type": "markdown",
      "metadata": {
        "id": "T01bFUbt__Th"
      },
      "source": [
        "# Loading Encoder Models"
      ]
    },
    {
      "cell_type": "code",
      "metadata": {
        "colab": {
          "base_uri": "https://localhost:8080/"
        },
        "id": "WQ6FjlZRcDUb",
        "outputId": "6d82b567-eef1-42d7-c978-68d94134acec"
      },
      "source": [
        "# Load encoder models from the file\n",
        "encoder_left_side = load_model(ENCODER_MODEL_PATH)\n",
        "encoder_right_side = load_model(ENCODER_MODEL_PATH)\n",
        "main_information.append(ENCODER_MODEL_PATH)"
      ],
      "execution_count": null,
      "outputs": [
        {
          "output_type": "stream",
          "text": [
            "WARNING:tensorflow:No training configuration found in the save file, so the model was *not* compiled. Compile it manually.\n",
            "WARNING:tensorflow:No training configuration found in the save file, so the model was *not* compiled. Compile it manually.\n"
          ],
          "name": "stdout"
        }
      ]
    },
    {
      "cell_type": "code",
      "metadata": {
        "id": "M5KkVfGjXu8D"
      },
      "source": [
        "# Change layers names and make them untrainable\n",
        "for i, layer in enumerate(encoder_left_side.layers):\n",
        "  layer._name = 'left_side_' + str(i)\n",
        "  layer.trainable = False\n",
        "  \n",
        "for i, layer in enumerate(encoder_right_side.layers):\n",
        "  layer._name = 'right_side_' + str(i)\n",
        "  layer.trainable = False"
      ],
      "execution_count": null,
      "outputs": []
    },
    {
      "cell_type": "code",
      "metadata": {
        "id": "UfDY9ImQcOX0"
      },
      "source": [
        "# Compile encoder models\n",
        "encoder_left_side.compile(\n",
        "   optimizer=optimizer, \n",
        "   loss='mse', \n",
        "   metrics=['accuracy']\n",
        ")\n",
        "\n",
        "encoder_right_side.compile(\n",
        "   optimizer=optimizer, \n",
        "   loss='mse', \n",
        "   metrics=['accuracy']\n",
        ")"
      ],
      "execution_count": null,
      "outputs": []
    },
    {
      "cell_type": "code",
      "metadata": {
        "id": "sQqel0xVX7ht"
      },
      "source": [
        "# Load weights\n",
        "encoder_left_side.load_weights(ENCODER_MODEL_WEIGHTS_PATH)\n",
        "encoder_right_side.load_weights(ENCODER_MODEL_WEIGHTS_PATH)"
      ],
      "execution_count": null,
      "outputs": []
    },
    {
      "cell_type": "code",
      "metadata": {
        "colab": {
          "base_uri": "https://localhost:8080/"
        },
        "id": "Q0_vl-G8gp5R",
        "outputId": "0bbd351d-bd78-4ad4-f368-bac79ac8b37d"
      },
      "source": [
        "encoder_left_side.summary()\n",
        "encoder_right_side.summary()"
      ],
      "execution_count": null,
      "outputs": [
        {
          "output_type": "stream",
          "text": [
            "Model: \"model_3\"\n",
            "_________________________________________________________________\n",
            "Layer (type)                 Output Shape              Param #   \n",
            "=================================================================\n",
            "left_side_0 (InputLayer)     [(None, 200)]             0         \n",
            "_________________________________________________________________\n",
            "left_side_1 (Embedding)      (None, 200, 128)          16512     \n",
            "_________________________________________________________________\n",
            "left_side_2 (Conv1D)         (None, 200, 128)          82048     \n",
            "_________________________________________________________________\n",
            "left_side_3 (MaxPooling1D)   (None, 40, 128)           0         \n",
            "_________________________________________________________________\n",
            "left_side_4 (BatchNormalizat (None, 40, 128)           512       \n",
            "_________________________________________________________________\n",
            "left_side_5 (Conv1D)         (None, 40, 128)           82048     \n",
            "_________________________________________________________________\n",
            "left_side_6 (MaxPooling1D)   (None, 10, 128)           0         \n",
            "_________________________________________________________________\n",
            "left_side_7 (BatchNormalizat (None, 10, 128)           512       \n",
            "_________________________________________________________________\n",
            "left_side_8 (Conv1D)         (None, 10, 128)           82048     \n",
            "=================================================================\n",
            "Total params: 263,680\n",
            "Trainable params: 0\n",
            "Non-trainable params: 263,680\n",
            "_________________________________________________________________\n",
            "Model: \"model_3\"\n",
            "_________________________________________________________________\n",
            "Layer (type)                 Output Shape              Param #   \n",
            "=================================================================\n",
            "right_side_0 (InputLayer)    [(None, 200)]             0         \n",
            "_________________________________________________________________\n",
            "right_side_1 (Embedding)     (None, 200, 128)          16512     \n",
            "_________________________________________________________________\n",
            "right_side_2 (Conv1D)        (None, 200, 128)          82048     \n",
            "_________________________________________________________________\n",
            "right_side_3 (MaxPooling1D)  (None, 40, 128)           0         \n",
            "_________________________________________________________________\n",
            "right_side_4 (BatchNormaliza (None, 40, 128)           512       \n",
            "_________________________________________________________________\n",
            "right_side_5 (Conv1D)        (None, 40, 128)           82048     \n",
            "_________________________________________________________________\n",
            "right_side_6 (MaxPooling1D)  (None, 10, 128)           0         \n",
            "_________________________________________________________________\n",
            "right_side_7 (BatchNormaliza (None, 10, 128)           512       \n",
            "_________________________________________________________________\n",
            "right_side_8 (Conv1D)        (None, 10, 128)           82048     \n",
            "=================================================================\n",
            "Total params: 263,680\n",
            "Trainable params: 0\n",
            "Non-trainable params: 263,680\n",
            "_________________________________________________________________\n"
          ],
          "name": "stdout"
        }
      ]
    },
    {
      "cell_type": "markdown",
      "metadata": {
        "id": "vLHyh9t_AHUt"
      },
      "source": [
        "# Build Model"
      ]
    },
    {
      "cell_type": "code",
      "metadata": {
        "id": "wjKdGbs7cUkJ"
      },
      "source": [
        "# Concatenate encoders together\n",
        "x = concatenate([encoder_left_side.output, encoder_right_side.output], axis=1)\n",
        "# x = concatenate([encoder_left_side.output, encoder_right_side.output]) # Wrong axis = concatenates second dim"
      ],
      "execution_count": null,
      "outputs": []
    },
    {
      "cell_type": "code",
      "metadata": {
        "colab": {
          "base_uri": "https://localhost:8080/"
        },
        "id": "5TfVqi_V3wlL",
        "outputId": "c07ad8c6-470b-47eb-90f8-435d10ba29f5"
      },
      "source": [
        "# left.get_shape()\n",
        "x.get_shape()"
      ],
      "execution_count": null,
      "outputs": [
        {
          "output_type": "execute_result",
          "data": {
            "text/plain": [
              "TensorShape([None, 20, 128])"
            ]
          },
          "metadata": {
            "tags": []
          },
          "execution_count": 25
        }
      ]
    },
    {
      "cell_type": "code",
      "metadata": {
        "id": "IHfw9guHpBJr"
      },
      "source": [
        "# Conv1D(filters, kernel_size, ...)\n",
        "x = Conv1D(128, 5, activation=activation, padding='same')(x)\n",
        "x = BatchNormalization()(x)\n",
        "x = Dropout(dropout)(x)\n",
        "x = MaxPooling1D(pool_size=2, padding='same')(x)\n",
        "x = Conv1D(128, 5, activation=activation, padding='same')(x)\n",
        "x = BatchNormalization()(x)\n",
        "x = Dropout(dropout)(x)\n",
        "x = MaxPooling1D(pool_size=2, padding='same')(x)\n",
        "x = Conv1D(128, 5, activation=activation, padding='same')(x)\n",
        "x = BatchNormalization()(x)\n",
        "x = Dropout(dropout)(x)\n",
        "x = MaxPooling1D(pool_size=2, padding='same')(x)\n",
        "x = Flatten()(x)"
      ],
      "execution_count": null,
      "outputs": []
    },
    {
      "cell_type": "code",
      "metadata": {
        "colab": {
          "base_uri": "https://localhost:8080/"
        },
        "id": "AuRi8gf-dQ-T",
        "outputId": "25c3bc82-95c4-4b3b-8af9-88b89bbadddf"
      },
      "source": [
        "\n",
        "predictions = Dense(1, activation='sigmoid')(x)\n",
        "\n",
        "# Build and compile model\n",
        "sourcecode_model = Model(inputs=[encoder_left_side.input ,encoder_right_side.input], outputs=predictions)\n",
        "# opt = adam, loss = mse\n",
        "sourcecode_model.compile(loss=loss, optimizer = optimizer,\n",
        "              metrics=['accuracy'])\n",
        "\n",
        "sourcecode_model.summary()"
      ],
      "execution_count": null,
      "outputs": [
        {
          "output_type": "stream",
          "text": [
            "Model: \"model\"\n",
            "__________________________________________________________________________________________________\n",
            "Layer (type)                    Output Shape         Param #     Connected to                     \n",
            "==================================================================================================\n",
            "left_side_0 (InputLayer)        [(None, 200)]        0                                            \n",
            "__________________________________________________________________________________________________\n",
            "right_side_0 (InputLayer)       [(None, 200)]        0                                            \n",
            "__________________________________________________________________________________________________\n",
            "left_side_1 (Embedding)         (None, 200, 128)     16512       left_side_0[0][0]                \n",
            "__________________________________________________________________________________________________\n",
            "right_side_1 (Embedding)        (None, 200, 128)     16512       right_side_0[0][0]               \n",
            "__________________________________________________________________________________________________\n",
            "left_side_2 (Conv1D)            (None, 200, 128)     82048       left_side_1[0][0]                \n",
            "__________________________________________________________________________________________________\n",
            "right_side_2 (Conv1D)           (None, 200, 128)     82048       right_side_1[0][0]               \n",
            "__________________________________________________________________________________________________\n",
            "left_side_3 (MaxPooling1D)      (None, 40, 128)      0           left_side_2[0][0]                \n",
            "__________________________________________________________________________________________________\n",
            "right_side_3 (MaxPooling1D)     (None, 40, 128)      0           right_side_2[0][0]               \n",
            "__________________________________________________________________________________________________\n",
            "left_side_4 (BatchNormalization (None, 40, 128)      512         left_side_3[0][0]                \n",
            "__________________________________________________________________________________________________\n",
            "right_side_4 (BatchNormalizatio (None, 40, 128)      512         right_side_3[0][0]               \n",
            "__________________________________________________________________________________________________\n",
            "left_side_5 (Conv1D)            (None, 40, 128)      82048       left_side_4[0][0]                \n",
            "__________________________________________________________________________________________________\n",
            "right_side_5 (Conv1D)           (None, 40, 128)      82048       right_side_4[0][0]               \n",
            "__________________________________________________________________________________________________\n",
            "left_side_6 (MaxPooling1D)      (None, 10, 128)      0           left_side_5[0][0]                \n",
            "__________________________________________________________________________________________________\n",
            "right_side_6 (MaxPooling1D)     (None, 10, 128)      0           right_side_5[0][0]               \n",
            "__________________________________________________________________________________________________\n",
            "left_side_7 (BatchNormalization (None, 10, 128)      512         left_side_6[0][0]                \n",
            "__________________________________________________________________________________________________\n",
            "right_side_7 (BatchNormalizatio (None, 10, 128)      512         right_side_6[0][0]               \n",
            "__________________________________________________________________________________________________\n",
            "left_side_8 (Conv1D)            (None, 10, 128)      82048       left_side_7[0][0]                \n",
            "__________________________________________________________________________________________________\n",
            "right_side_8 (Conv1D)           (None, 10, 128)      82048       right_side_7[0][0]               \n",
            "__________________________________________________________________________________________________\n",
            "concatenate (Concatenate)       (None, 20, 128)      0           left_side_8[0][0]                \n",
            "                                                                 right_side_8[0][0]               \n",
            "__________________________________________________________________________________________________\n",
            "conv1d (Conv1D)                 (None, 20, 128)      82048       concatenate[0][0]                \n",
            "__________________________________________________________________________________________________\n",
            "batch_normalization (BatchNorma (None, 20, 128)      512         conv1d[0][0]                     \n",
            "__________________________________________________________________________________________________\n",
            "dropout (Dropout)               (None, 20, 128)      0           batch_normalization[0][0]        \n",
            "__________________________________________________________________________________________________\n",
            "max_pooling1d (MaxPooling1D)    (None, 10, 128)      0           dropout[0][0]                    \n",
            "__________________________________________________________________________________________________\n",
            "conv1d_1 (Conv1D)               (None, 10, 128)      82048       max_pooling1d[0][0]              \n",
            "__________________________________________________________________________________________________\n",
            "batch_normalization_1 (BatchNor (None, 10, 128)      512         conv1d_1[0][0]                   \n",
            "__________________________________________________________________________________________________\n",
            "dropout_1 (Dropout)             (None, 10, 128)      0           batch_normalization_1[0][0]      \n",
            "__________________________________________________________________________________________________\n",
            "max_pooling1d_1 (MaxPooling1D)  (None, 5, 128)       0           dropout_1[0][0]                  \n",
            "__________________________________________________________________________________________________\n",
            "conv1d_2 (Conv1D)               (None, 5, 128)       82048       max_pooling1d_1[0][0]            \n",
            "__________________________________________________________________________________________________\n",
            "batch_normalization_2 (BatchNor (None, 5, 128)       512         conv1d_2[0][0]                   \n",
            "__________________________________________________________________________________________________\n",
            "dropout_2 (Dropout)             (None, 5, 128)       0           batch_normalization_2[0][0]      \n",
            "__________________________________________________________________________________________________\n",
            "max_pooling1d_2 (MaxPooling1D)  (None, 3, 128)       0           dropout_2[0][0]                  \n",
            "__________________________________________________________________________________________________\n",
            "flatten (Flatten)               (None, 384)          0           max_pooling1d_2[0][0]            \n",
            "__________________________________________________________________________________________________\n",
            "dense (Dense)                   (None, 1)            385         flatten[0][0]                    \n",
            "==================================================================================================\n",
            "Total params: 775,425\n",
            "Trainable params: 247,297\n",
            "Non-trainable params: 528,128\n",
            "__________________________________________________________________________________________________\n"
          ],
          "name": "stdout"
        }
      ]
    },
    {
      "cell_type": "code",
      "metadata": {
        "id": "pZHGikEnrmWy"
      },
      "source": [
        "# Store model summary\n",
        "summarylist = []\n",
        "sourcecode_model.summary(print_fn=lambda x: summarylist.append(x))\n",
        "short_model_summary = \"\\n\".join(summarylist)\n",
        "# print(short_model_summary)\n",
        "main_information.append(short_model_summary)"
      ],
      "execution_count": null,
      "outputs": []
    },
    {
      "cell_type": "code",
      "metadata": {
        "id": "PjlTEJatEWFO"
      },
      "source": [
        "# Save model sturcture as an image to the file\n",
        "# plot_model(sourcecode_model, to_file='/content/drive/colab/imgs/models/sourcecode_model.png', show_shapes=True, show_layer_names=False)"
      ],
      "execution_count": null,
      "outputs": []
    },
    {
      "cell_type": "markdown",
      "metadata": {
        "id": "r3b1j7J579_D"
      },
      "source": [
        "# Train Model"
      ]
    },
    {
      "cell_type": "code",
      "metadata": {
        "id": "YcbaIArM79bn"
      },
      "source": [
        "tensorboard = TensorBoard(log_dir=TENSORBOARD_LOGS_PATH, \n",
        "                          histogram_freq=0,\n",
        "                          write_graph=True,\n",
        "                          write_images=False)"
      ],
      "execution_count": null,
      "outputs": []
    },
    {
      "cell_type": "code",
      "metadata": {
        "id": "Zg5E_TZr9XX6"
      },
      "source": [
        "early_stop = EarlyStopping(monitor='val_loss', \n",
        "                           min_delta=0.001, \n",
        "                           patience=5, # Num of epochs with no improvement after which training stops\n",
        "                           verbose=1)"
      ],
      "execution_count": null,
      "outputs": []
    },
    {
      "cell_type": "code",
      "metadata": {
        "id": "9YVWSHAmtDux"
      },
      "source": [
        "checkpoint = ModelCheckpoint(MAIN_FOLDER + CHECK_POINT_PATH, monitor='val_acc', verbose=1, save_best_only=True, mode='max')"
      ],
      "execution_count": null,
      "outputs": []
    },
    {
      "cell_type": "code",
      "metadata": {
        "id": "gvHkDzohLxu1"
      },
      "source": [
        "reduce_lr = ReduceLROnPlateau(monitor='val_loss', factor=0.2,\n",
        "                              patience=5, min_lr=0.001)"
      ],
      "execution_count": null,
      "outputs": []
    },
    {
      "cell_type": "code",
      "metadata": {
        "id": "Du_RmlXQaf3m"
      },
      "source": [
        "class TimeHistory(Callback):\n",
        "    def on_train_begin(self, logs={}):\n",
        "        self.times = []\n",
        "\n",
        "    def on_epoch_begin(self, epoch, logs={}):\n",
        "        self.epoch_time_start = time.time()\n",
        "\n",
        "    def on_epoch_end(self, epoch, logs={}):\n",
        "        self.times.append(time.time() - self.epoch_time_start)\n",
        "\n",
        "time_callback = TimeHistory()"
      ],
      "execution_count": null,
      "outputs": []
    },
    {
      "cell_type": "code",
      "metadata": {
        "colab": {
          "base_uri": "https://localhost:8080/"
        },
        "id": "lp3JfElZ8CZD",
        "outputId": "57ee9e5a-ea4d-46db-efc9-899c104520d0"
      },
      "source": [
        "sourcecode_model_train = sourcecode_model.fit([train_left, train_right], train_labels, validation_split=0.2, batch_size=batch_size, epochs=epochs, verbose=1, callbacks=[time_callback, checkpoint])"
      ],
      "execution_count": null,
      "outputs": [
        {
          "output_type": "stream",
          "text": [
            "Epoch 1/50\n",
            "102/102 [==============================] - 51s 25ms/step - loss: 0.8491 - accuracy: 0.5688 - val_loss: 0.6277 - val_accuracy: 0.6809\n",
            "WARNING:tensorflow:Can save best model only with val_acc available, skipping.\n",
            "Epoch 2/50\n",
            "102/102 [==============================] - 1s 11ms/step - loss: 0.4928 - accuracy: 0.7546 - val_loss: 0.5057 - val_accuracy: 0.7302\n",
            "WARNING:tensorflow:Can save best model only with val_acc available, skipping.\n",
            "Epoch 3/50\n",
            "102/102 [==============================] - 1s 11ms/step - loss: 0.3024 - accuracy: 0.8614 - val_loss: 0.2517 - val_accuracy: 0.8901\n",
            "WARNING:tensorflow:Can save best model only with val_acc available, skipping.\n",
            "Epoch 4/50\n",
            "102/102 [==============================] - 1s 10ms/step - loss: 0.1949 - accuracy: 0.9220 - val_loss: 0.2125 - val_accuracy: 0.9185\n",
            "WARNING:tensorflow:Can save best model only with val_acc available, skipping.\n",
            "Epoch 5/50\n",
            "102/102 [==============================] - 1s 10ms/step - loss: 0.1098 - accuracy: 0.9631 - val_loss: 0.1775 - val_accuracy: 0.9333\n",
            "WARNING:tensorflow:Can save best model only with val_acc available, skipping.\n",
            "Epoch 6/50\n",
            "102/102 [==============================] - 1s 11ms/step - loss: 0.0733 - accuracy: 0.9778 - val_loss: 0.1584 - val_accuracy: 0.9389\n",
            "WARNING:tensorflow:Can save best model only with val_acc available, skipping.\n",
            "Epoch 7/50\n",
            "102/102 [==============================] - 1s 10ms/step - loss: 0.0556 - accuracy: 0.9830 - val_loss: 0.1117 - val_accuracy: 0.9605\n",
            "WARNING:tensorflow:Can save best model only with val_acc available, skipping.\n",
            "Epoch 8/50\n",
            "102/102 [==============================] - 1s 11ms/step - loss: 0.0334 - accuracy: 0.9894 - val_loss: 0.1400 - val_accuracy: 0.9593\n",
            "WARNING:tensorflow:Can save best model only with val_acc available, skipping.\n",
            "Epoch 9/50\n",
            "102/102 [==============================] - 1s 11ms/step - loss: 0.0297 - accuracy: 0.9918 - val_loss: 0.1914 - val_accuracy: 0.9432\n",
            "WARNING:tensorflow:Can save best model only with val_acc available, skipping.\n",
            "Epoch 10/50\n",
            "102/102 [==============================] - 1s 11ms/step - loss: 0.0210 - accuracy: 0.9949 - val_loss: 0.1454 - val_accuracy: 0.9531\n",
            "WARNING:tensorflow:Can save best model only with val_acc available, skipping.\n",
            "Epoch 11/50\n",
            "102/102 [==============================] - 1s 10ms/step - loss: 0.0158 - accuracy: 0.9952 - val_loss: 0.1806 - val_accuracy: 0.9469\n",
            "WARNING:tensorflow:Can save best model only with val_acc available, skipping.\n",
            "Epoch 12/50\n",
            "102/102 [==============================] - 1s 11ms/step - loss: 0.0229 - accuracy: 0.9923 - val_loss: 0.1362 - val_accuracy: 0.9580\n",
            "WARNING:tensorflow:Can save best model only with val_acc available, skipping.\n",
            "Epoch 13/50\n",
            "102/102 [==============================] - 1s 10ms/step - loss: 0.0218 - accuracy: 0.9930 - val_loss: 0.1109 - val_accuracy: 0.9630\n",
            "WARNING:tensorflow:Can save best model only with val_acc available, skipping.\n",
            "Epoch 14/50\n",
            "102/102 [==============================] - 1s 10ms/step - loss: 0.0167 - accuracy: 0.9951 - val_loss: 0.1231 - val_accuracy: 0.9667\n",
            "WARNING:tensorflow:Can save best model only with val_acc available, skipping.\n",
            "Epoch 15/50\n",
            "102/102 [==============================] - 1s 10ms/step - loss: 0.0172 - accuracy: 0.9943 - val_loss: 0.1253 - val_accuracy: 0.9654\n",
            "WARNING:tensorflow:Can save best model only with val_acc available, skipping.\n",
            "Epoch 16/50\n",
            "102/102 [==============================] - 1s 11ms/step - loss: 0.0140 - accuracy: 0.9970 - val_loss: 0.1648 - val_accuracy: 0.9574\n",
            "WARNING:tensorflow:Can save best model only with val_acc available, skipping.\n",
            "Epoch 17/50\n",
            "102/102 [==============================] - 1s 11ms/step - loss: 0.0105 - accuracy: 0.9964 - val_loss: 0.2185 - val_accuracy: 0.9494\n",
            "WARNING:tensorflow:Can save best model only with val_acc available, skipping.\n",
            "Epoch 18/50\n",
            "102/102 [==============================] - 1s 11ms/step - loss: 0.0155 - accuracy: 0.9954 - val_loss: 0.1796 - val_accuracy: 0.9543\n",
            "WARNING:tensorflow:Can save best model only with val_acc available, skipping.\n",
            "Epoch 19/50\n",
            "102/102 [==============================] - 1s 11ms/step - loss: 0.0183 - accuracy: 0.9933 - val_loss: 0.2758 - val_accuracy: 0.9346\n",
            "WARNING:tensorflow:Can save best model only with val_acc available, skipping.\n",
            "Epoch 20/50\n",
            "102/102 [==============================] - 1s 11ms/step - loss: 0.0108 - accuracy: 0.9973 - val_loss: 0.1488 - val_accuracy: 0.9562\n",
            "WARNING:tensorflow:Can save best model only with val_acc available, skipping.\n",
            "Epoch 21/50\n",
            "102/102 [==============================] - 1s 11ms/step - loss: 0.0089 - accuracy: 0.9963 - val_loss: 0.2064 - val_accuracy: 0.9537\n",
            "WARNING:tensorflow:Can save best model only with val_acc available, skipping.\n",
            "Epoch 22/50\n",
            "102/102 [==============================] - 1s 10ms/step - loss: 0.0091 - accuracy: 0.9980 - val_loss: 0.1293 - val_accuracy: 0.9654\n",
            "WARNING:tensorflow:Can save best model only with val_acc available, skipping.\n",
            "Epoch 23/50\n",
            "102/102 [==============================] - 1s 11ms/step - loss: 0.0091 - accuracy: 0.9979 - val_loss: 0.1449 - val_accuracy: 0.9617\n",
            "WARNING:tensorflow:Can save best model only with val_acc available, skipping.\n",
            "Epoch 24/50\n",
            "102/102 [==============================] - 1s 10ms/step - loss: 0.0090 - accuracy: 0.9969 - val_loss: 0.1329 - val_accuracy: 0.9623\n",
            "WARNING:tensorflow:Can save best model only with val_acc available, skipping.\n",
            "Epoch 25/50\n",
            "102/102 [==============================] - 1s 10ms/step - loss: 0.0074 - accuracy: 0.9973 - val_loss: 0.1217 - val_accuracy: 0.9673\n",
            "WARNING:tensorflow:Can save best model only with val_acc available, skipping.\n",
            "Epoch 26/50\n",
            "102/102 [==============================] - 1s 11ms/step - loss: 0.0090 - accuracy: 0.9975 - val_loss: 0.2135 - val_accuracy: 0.9543\n",
            "WARNING:tensorflow:Can save best model only with val_acc available, skipping.\n",
            "Epoch 27/50\n",
            "102/102 [==============================] - 1s 11ms/step - loss: 0.0083 - accuracy: 0.9980 - val_loss: 0.0921 - val_accuracy: 0.9796\n",
            "WARNING:tensorflow:Can save best model only with val_acc available, skipping.\n",
            "Epoch 28/50\n",
            "102/102 [==============================] - 1s 11ms/step - loss: 0.0185 - accuracy: 0.9929 - val_loss: 0.2422 - val_accuracy: 0.9537\n",
            "WARNING:tensorflow:Can save best model only with val_acc available, skipping.\n",
            "Epoch 29/50\n",
            "102/102 [==============================] - 1s 12ms/step - loss: 0.0161 - accuracy: 0.9951 - val_loss: 0.1388 - val_accuracy: 0.9691\n",
            "WARNING:tensorflow:Can save best model only with val_acc available, skipping.\n",
            "Epoch 30/50\n",
            "102/102 [==============================] - 1s 11ms/step - loss: 0.0173 - accuracy: 0.9934 - val_loss: 0.0826 - val_accuracy: 0.9753\n",
            "WARNING:tensorflow:Can save best model only with val_acc available, skipping.\n",
            "Epoch 31/50\n",
            "102/102 [==============================] - 1s 10ms/step - loss: 0.0119 - accuracy: 0.9964 - val_loss: 0.1446 - val_accuracy: 0.9691\n",
            "WARNING:tensorflow:Can save best model only with val_acc available, skipping.\n",
            "Epoch 32/50\n",
            "102/102 [==============================] - 1s 11ms/step - loss: 0.0108 - accuracy: 0.9958 - val_loss: 0.1305 - val_accuracy: 0.9673\n",
            "WARNING:tensorflow:Can save best model only with val_acc available, skipping.\n",
            "Epoch 33/50\n",
            "102/102 [==============================] - 1s 11ms/step - loss: 0.0077 - accuracy: 0.9979 - val_loss: 0.2387 - val_accuracy: 0.9512\n",
            "WARNING:tensorflow:Can save best model only with val_acc available, skipping.\n",
            "Epoch 34/50\n",
            "102/102 [==============================] - 1s 10ms/step - loss: 0.0124 - accuracy: 0.9958 - val_loss: 0.1668 - val_accuracy: 0.9623\n",
            "WARNING:tensorflow:Can save best model only with val_acc available, skipping.\n",
            "Epoch 35/50\n",
            "102/102 [==============================] - 1s 10ms/step - loss: 0.0102 - accuracy: 0.9959 - val_loss: 0.1510 - val_accuracy: 0.9691\n",
            "WARNING:tensorflow:Can save best model only with val_acc available, skipping.\n",
            "Epoch 36/50\n",
            "102/102 [==============================] - 1s 11ms/step - loss: 0.0057 - accuracy: 0.9984 - val_loss: 0.1141 - val_accuracy: 0.9710\n",
            "WARNING:tensorflow:Can save best model only with val_acc available, skipping.\n",
            "Epoch 37/50\n",
            "102/102 [==============================] - 1s 11ms/step - loss: 0.0053 - accuracy: 0.9982 - val_loss: 0.1070 - val_accuracy: 0.9753\n",
            "WARNING:tensorflow:Can save best model only with val_acc available, skipping.\n",
            "Epoch 38/50\n",
            "102/102 [==============================] - 1s 11ms/step - loss: 0.0059 - accuracy: 0.9983 - val_loss: 0.1457 - val_accuracy: 0.9679\n",
            "WARNING:tensorflow:Can save best model only with val_acc available, skipping.\n",
            "Epoch 39/50\n",
            "102/102 [==============================] - 1s 11ms/step - loss: 0.0041 - accuracy: 0.9989 - val_loss: 0.1398 - val_accuracy: 0.9704\n",
            "WARNING:tensorflow:Can save best model only with val_acc available, skipping.\n",
            "Epoch 40/50\n",
            "102/102 [==============================] - 1s 11ms/step - loss: 0.0062 - accuracy: 0.9970 - val_loss: 0.0959 - val_accuracy: 0.9747\n",
            "WARNING:tensorflow:Can save best model only with val_acc available, skipping.\n",
            "Epoch 41/50\n",
            "102/102 [==============================] - 1s 11ms/step - loss: 0.0071 - accuracy: 0.9984 - val_loss: 0.1635 - val_accuracy: 0.9648\n",
            "WARNING:tensorflow:Can save best model only with val_acc available, skipping.\n",
            "Epoch 42/50\n",
            "102/102 [==============================] - 1s 11ms/step - loss: 0.0046 - accuracy: 0.9983 - val_loss: 0.1929 - val_accuracy: 0.9593\n",
            "WARNING:tensorflow:Can save best model only with val_acc available, skipping.\n",
            "Epoch 43/50\n",
            "102/102 [==============================] - 1s 11ms/step - loss: 0.0100 - accuracy: 0.9975 - val_loss: 0.1788 - val_accuracy: 0.9599\n",
            "WARNING:tensorflow:Can save best model only with val_acc available, skipping.\n",
            "Epoch 44/50\n",
            "102/102 [==============================] - 1s 11ms/step - loss: 0.0062 - accuracy: 0.9980 - val_loss: 0.1597 - val_accuracy: 0.9636\n",
            "WARNING:tensorflow:Can save best model only with val_acc available, skipping.\n",
            "Epoch 45/50\n",
            "102/102 [==============================] - 1s 11ms/step - loss: 0.0092 - accuracy: 0.9969 - val_loss: 0.1219 - val_accuracy: 0.9741\n",
            "WARNING:tensorflow:Can save best model only with val_acc available, skipping.\n",
            "Epoch 46/50\n",
            "102/102 [==============================] - 1s 11ms/step - loss: 0.0179 - accuracy: 0.9951 - val_loss: 0.1366 - val_accuracy: 0.9691\n",
            "WARNING:tensorflow:Can save best model only with val_acc available, skipping.\n",
            "Epoch 47/50\n",
            "102/102 [==============================] - 1s 11ms/step - loss: 0.0068 - accuracy: 0.9975 - val_loss: 0.1493 - val_accuracy: 0.9673\n",
            "WARNING:tensorflow:Can save best model only with val_acc available, skipping.\n",
            "Epoch 48/50\n",
            "102/102 [==============================] - 1s 11ms/step - loss: 0.0186 - accuracy: 0.9939 - val_loss: 0.1056 - val_accuracy: 0.9722\n",
            "WARNING:tensorflow:Can save best model only with val_acc available, skipping.\n",
            "Epoch 49/50\n",
            "102/102 [==============================] - 1s 11ms/step - loss: 0.0182 - accuracy: 0.9939 - val_loss: 0.1567 - val_accuracy: 0.9605\n",
            "WARNING:tensorflow:Can save best model only with val_acc available, skipping.\n",
            "Epoch 50/50\n",
            "102/102 [==============================] - 1s 11ms/step - loss: 0.0123 - accuracy: 0.9957 - val_loss: 0.1943 - val_accuracy: 0.9673\n",
            "WARNING:tensorflow:Can save best model only with val_acc available, skipping.\n"
          ],
          "name": "stdout"
        }
      ]
    },
    {
      "cell_type": "code",
      "metadata": {
        "id": "7hK3jJX4tzxy"
      },
      "source": [
        "# Load best weight saved by checkpoint\n",
        "# sourcecode_model.load_weights(MAIN_FOLDER + CHECK_POINT_PATH)"
      ],
      "execution_count": null,
      "outputs": []
    },
    {
      "cell_type": "markdown",
      "metadata": {
        "id": "1U323lYYayTj"
      },
      "source": [
        "### Training times"
      ]
    },
    {
      "cell_type": "code",
      "metadata": {
        "colab": {
          "base_uri": "https://localhost:8080/"
        },
        "id": "_NE4mGl7avbw",
        "outputId": "2a0f6844-e3d4-43f1-c7ed-bec15f94ccc8"
      },
      "source": [
        "print(time_callback.times)\n",
        "print(\"Average time per epoch: \",np.mean(time_callback.times))\n",
        "main_information.append(\"Average time per epoch: {}\".format(np.mean(time_callback.times)))"
      ],
      "execution_count": null,
      "outputs": [
        {
          "output_type": "stream",
          "text": [
            "[51.17777132987976, 1.078958511352539, 1.0853540897369385, 1.0558698177337646, 1.0711123943328857, 1.0734107494354248, 1.0642549991607666, 1.1425540447235107, 1.0874218940734863, 1.0780713558197021, 1.05631422996521, 1.0736804008483887, 1.058213710784912, 1.0410242080688477, 1.016185998916626, 1.102937936782837, 1.1565051078796387, 1.1567625999450684, 1.1108627319335938, 1.0885653495788574, 1.096785545349121, 1.0625677108764648, 1.0895423889160156, 1.0567412376403809, 1.0671420097351074, 1.100315809249878, 1.087982416152954, 1.0741331577301025, 1.2225875854492188, 1.088768720626831, 1.0677025318145752, 1.1179265975952148, 1.0903077125549316, 1.0547122955322266, 1.0447208881378174, 1.105180025100708, 1.1051642894744873, 1.1222801208496094, 1.1275262832641602, 1.1240465641021729, 1.0832834243774414, 1.0855658054351807, 1.0734589099884033, 1.0849287509918213, 1.0743858814239502, 1.0873425006866455, 1.084625482559204, 1.0754659175872803, 1.0749211311340332, 1.095017910003662]\n",
            "Average time per epoch:  2.0900192213058473\n"
          ],
          "name": "stdout"
        }
      ]
    },
    {
      "cell_type": "markdown",
      "metadata": {
        "id": "MHj5WbFSa5S8"
      },
      "source": [
        "## History Plots"
      ]
    },
    {
      "cell_type": "code",
      "metadata": {
        "colab": {
          "base_uri": "https://localhost:8080/",
          "height": 295
        },
        "id": "WZvpNW5cCSav",
        "outputId": "49940ae3-d805-4542-96e0-e83717cba8d9"
      },
      "source": [
        "# summarize history for accuracy\n",
        "plt.plot(sourcecode_model_train.history['accuracy'])\n",
        "plt.plot(sourcecode_model_train.history['val_accuracy'])\n",
        "plt.title('Training and Validation Accuracy')\n",
        "plt.ylabel('Accuracy')\n",
        "plt.xlabel('Number of Epochs')\n",
        "plt.legend(['Training accuracy', 'Validation accuracy'], loc='lower right')\n",
        "\n",
        "path = MAIN_FOLDER + 'Training_accuracy_{}.png'.format(datetime.datetime.now().isoformat())\n",
        "\n",
        "plt.show()"
      ],
      "execution_count": null,
      "outputs": [
        {
          "output_type": "display_data",
          "data": {
            "image/png": "[encoded data removed]",
            "text/plain": [
              "<Figure size 432x288 with 1 Axes>"
            ]
          },
          "metadata": {
            "tags": [],
            "needs_background": "light"
          }
        }
      ]
    },
    {
      "cell_type": "code",
      "metadata": {
        "colab": {
          "base_uri": "https://localhost:8080/",
          "height": 295
        },
        "id": "LOGnTdJsFfvf",
        "outputId": "22fa3b5e-0482-4de2-c774-257f2b05bacf"
      },
      "source": [
        "# summarize history for loss\n",
        "plt.plot(sourcecode_model_train.history['loss'])\n",
        "plt.plot(sourcecode_model_train.history['val_loss'])\n",
        "plt.title('Training and Validation Loss')\n",
        "plt.ylabel('Loss')\n",
        "plt.xlabel('Number of Epochs')\n",
        "plt.legend(['Training loss', 'Validation loss'], loc='upper right')\n",
        "\n",
        "path = MAIN_FOLDER + 'Training and validation loss_{}.png'.format(datetime.datetime.now().isoformat())\n",
        "\n",
        "plt.show()"
      ],
      "execution_count": null,
      "outputs": [
        {
          "output_type": "display_data",
          "data": {
            "image/png": "[encoded data removed]",
            "text/plain": [
              "<Figure size 432x288 with 1 Axes>"
            ]
          },
          "metadata": {
            "tags": [],
            "needs_background": "light"
          }
        }
      ]
    },
    {
      "cell_type": "code",
      "metadata": {
        "colab": {
          "base_uri": "https://localhost:8080/"
        },
        "id": "Yz3qoxilGijp",
        "outputId": "75513cd9-294c-478b-f409-5733927435d4"
      },
      "source": [
        "predictions = sourcecode_model.predict([test_left, test_right], batch_size=batch_size)\n",
        "predictions"
      ],
      "execution_count": null,
      "outputs": [
        {
          "output_type": "execute_result",
          "data": {
            "text/plain": [
              "array([[5.2037019e-26],\n",
              "       [1.5395987e-16],\n",
              "       [5.4597449e-06],\n",
              "       ...,\n",
              "       [4.8600580e-16],\n",
              "       [1.0000000e+00],\n",
              "       [5.2477326e-06]], dtype=float32)"
            ]
          },
          "metadata": {
            "tags": []
          },
          "execution_count": 40
        }
      ]
    },
    {
      "cell_type": "code",
      "metadata": {
        "colab": {
          "base_uri": "https://localhost:8080/"
        },
        "id": "1NCNS8yjyDCC",
        "outputId": "738cf7f8-fd52-4ef8-e221-5ab2e279b7eb"
      },
      "source": [
        "rounded = [round(x[0]) for x in predictions]\n",
        "y_pred = np.array(rounded,dtype='int64')\n",
        "y_pred"
      ],
      "execution_count": null,
      "outputs": [
        {
          "output_type": "execute_result",
          "data": {
            "text/plain": [
              "array([0, 0, 0, ..., 0, 1, 0])"
            ]
          },
          "metadata": {
            "tags": []
          },
          "execution_count": 41
        }
      ]
    },
    {
      "cell_type": "code",
      "metadata": {
        "colab": {
          "base_uri": "https://localhost:8080/"
        },
        "id": "6VcKBXc0dP6u",
        "outputId": "e62d8233-01e5-4b5f-cbad-128adc19b3dd"
      },
      "source": [
        "test_labels = np.array(test_labels, dtype='int64')\n",
        "test_labels"
      ],
      "execution_count": null,
      "outputs": [
        {
          "output_type": "execute_result",
          "data": {
            "text/plain": [
              "array([0, 0, 0, ..., 0, 1, 0])"
            ]
          },
          "metadata": {
            "tags": []
          },
          "execution_count": 42
        }
      ]
    },
    {
      "cell_type": "markdown",
      "metadata": {
        "id": "w5YPFIwl5c91"
      },
      "source": [
        "# Display Metrics"
      ]
    },
    {
      "cell_type": "markdown",
      "metadata": {
        "id": "wMV7MqsnaAQc"
      },
      "source": [
        "## Confusion Matrix"
      ]
    },
    {
      "cell_type": "code",
      "metadata": {
        "id": "vwF4QHMHKQRe"
      },
      "source": [
        "# Confusion Matrix\n",
        "def show_confusion_matrix(validations, predictions):\n",
        "    matrix = metrics.confusion_matrix(validations, predictions)\n",
        "    matrix = [[1371, 33], [36, 1359]]\n",
        "    plt.figure(figsize=(6, 4))\n",
        "    sns.heatmap(matrix,\n",
        "                cmap=\"coolwarm\",\n",
        "                linecolor='white',\n",
        "                linewidths=1,\n",
        "                xticklabels=LABELS,\n",
        "                yticklabels=LABELS,\n",
        "                annot=True,\n",
        "                fmt=\"d\")\n",
        "    plt.title(\"Confusion Matrix\")\n",
        "    plt.ylabel(\"True Label\")\n",
        "    plt.xlabel(\"Predicted Label\")\n",
        "\n",
        "    #path = '/content/drive/colab/confusion_matrix_{}.svg'.format(datetime.datetime.now().isoformat())\n",
        "\n",
        "    plt.show()"
      ],
      "execution_count": null,
      "outputs": []
    },
    {
      "cell_type": "code",
      "metadata": {
        "colab": {
          "base_uri": "https://localhost:8080/",
          "height": 295
        },
        "id": "N0qet1n3yJbl",
        "outputId": "ca691816-9c7c-4398-ae84-1722b7b6064a"
      },
      "source": [
        "LABELS = [\"Not Similar\", \"Similar\"]\n",
        "show_confusion_matrix([0,0], [0,1])"
      ],
      "execution_count": null,
      "outputs": [
        {
          "output_type": "display_data",
          "data": {
            "image/png": "[encoded data removed]",
            "text/plain": [
              "<Figure size 432x288 with 2 Axes>"
            ]
          },
          "metadata": {
            "tags": [],
            "needs_background": "light"
          }
        }
      ]
    },
    {
      "cell_type": "markdown",
      "metadata": {
        "id": "HaSRxBb7Z5RF"
      },
      "source": [
        "## Classification report"
      ]
    },
    {
      "cell_type": "code",
      "metadata": {
        "colab": {
          "base_uri": "https://localhost:8080/"
        },
        "id": "rXmKvhUkJ0wl",
        "outputId": "04d3e9fd-e4df-4d47-ba64-1615e6f0eefd"
      },
      "source": [
        "# Report with micro, macro and weighted avg\n",
        "report = classification_report(test_labels, y_pred, output_dict=True, target_names=LABELS)\n",
        "df = pd.DataFrame(report).transpose()\n",
        "\n",
        "path = MAIN_FOLDER + 'classification_report_{}.csv'.format(datetime.datetime.now().isoformat())\n",
        "\n",
        "print(report)"
      ],
      "execution_count": null,
      "outputs": [
        {
          "output_type": "stream",
          "text": [
            "{'Not Similar': {'precision': 0.9946062567421791, 'recall': 0.9331983805668016, 'f1-score': 0.9629242819843341, 'support': 988}, 'Similar': {'precision': 0.9399454049135578, 'recall': 0.9951830443159922, 'f1-score': 0.9667758540009359, 'support': 1038}, 'accuracy': 0.9649555774925962, 'macro avg': {'precision': 0.9672758308278684, 'recall': 0.9641907124413969, 'f1-score': 0.9648500679926351, 'support': 2026}, 'weighted avg': {'precision': 0.9666013385792429, 'recall': 0.9649555774925962, 'f1-score': 0.9648975947944193, 'support': 2026}}\n"
          ],
          "name": "stdout"
        }
      ]
    },
    {
      "cell_type": "code",
      "metadata": {
        "colab": {
          "base_uri": "https://localhost:8080/"
        },
        "id": "OsiC4C7RYDJ2",
        "outputId": "c7406410-5647-4ffc-bc7e-c0a74176cfe6"
      },
      "source": [
        "# This one looks better, only average\n",
        "from sklearn.metrics import precision_recall_fscore_support\n",
        "\n",
        "clf_rep = precision_recall_fscore_support(test_labels, y_pred)\n",
        "out_dict = {\n",
        "             \"precision\" :clf_rep[0].round(2)\n",
        "            ,\"recall\" : clf_rep[1].round(2)\n",
        "            ,\"f1-score\" : clf_rep[2].round(2)\n",
        "            ,\"support\" : clf_rep[3]\n",
        "            }\n",
        "out_df = pd.DataFrame(out_dict, index = LABELS)\n",
        "avg_tot = (out_df.apply(lambda x: round(x.mean(), 2) if x.name!=\"support\" else  round(x.sum(), 2)).to_frame().T)\n",
        "avg_tot.index = [\"avg/total\"]\n",
        "out_df = out_df.append(avg_tot)\n",
        "\n",
        "path = MAIN_FOLDER + 'classification_report_{}.csv'.format(datetime.datetime.now().isoformat())\n",
        "\n",
        "print(out_df)"
      ],
      "execution_count": null,
      "outputs": [
        {
          "output_type": "stream",
          "text": [
            "             precision  recall  f1-score  support\n",
            "Not Similar       0.99    0.93      0.96    988.0\n",
            "Similar           0.94    1.00      0.97   1038.0\n",
            "avg/total         0.96    0.97      0.96   2026.0\n"
          ],
          "name": "stdout"
        }
      ]
    },
    {
      "cell_type": "markdown",
      "metadata": {
        "id": "p5Sh-nOqaGEe"
      },
      "source": [
        "## Precision vs Recall Curve"
      ]
    },
    {
      "cell_type": "code",
      "metadata": {
        "colab": {
          "base_uri": "https://localhost:8080/"
        },
        "id": "pGXQqOezRIV4",
        "outputId": "624988e3-7de2-48ae-cbce-f8f06864fa71"
      },
      "source": [
        "from sklearn.metrics import accuracy_score\n",
        "print(\"Accuracy score: \", accuracy_score(y_pred, test_labels))\n",
        "main_information.append(\"Accuracy score: {}\".format(accuracy_score(y_pred, test_labels)))"
      ],
      "execution_count": null,
      "outputs": [
        {
          "output_type": "stream",
          "text": [
            "Accuracy score:  0.9649555774925962\n"
          ],
          "name": "stdout"
        }
      ]
    },
    {
      "cell_type": "code",
      "metadata": {
        "colab": {
          "base_uri": "https://localhost:8080/"
        },
        "id": "7h0eYXA0lDH0",
        "outputId": "b9fbf205-c5aa-426c-a541-3d4e02570211"
      },
      "source": [
        "pip install funcsigs"
      ],
      "execution_count": null,
      "outputs": [
        {
          "output_type": "stream",
          "text": [
            "Collecting funcsigs\n",
            "  Downloading https://files.pythonhosted.org/packages/69/cb/f5be453359271714c01b9bd06126eaf2e368f1fddfff30818754b5ac2328/funcsigs-1.0.2-py2.py3-none-any.whl\n",
            "Installing collected packages: funcsigs\n",
            "Successfully installed funcsigs-1.0.2\n"
          ],
          "name": "stdout"
        }
      ]
    },
    {
      "cell_type": "code",
      "metadata": {
        "colab": {
          "base_uri": "https://localhost:8080/",
          "height": 295
        },
        "id": "G36mh-PsWBhn",
        "outputId": "cd180922-75af-4320-e7cd-f97acaeb929e"
      },
      "source": [
        "from sklearn.metrics import precision_recall_curve, average_precision_score\n",
        "from funcsigs import signature\n",
        "#from sklearn.utils.fixes import signature\n",
        "\n",
        "precision, recall, threshold = precision_recall_curve(test_labels, y_pred)\n",
        "\n",
        "average_precision = average_precision_score(test_labels, y_pred)\n",
        "\n",
        "plt.plot(recall, precision, marker='.', label='Precision-Recall Curve')\n",
        "\n",
        "\n",
        "\n",
        "plt.ylim([0.0, 1.05])\n",
        "plt.xlim([0.0, 1.05])\n",
        "plt.xlabel('Recall')\n",
        "plt.ylabel('Precision')\n",
        "plt.title('2-Class Precision-Recall Curve: AP={0:0.4f}'.format(average_precision))\n",
        "plt.legend(loc=\"lower right\")\n",
        "\n",
        "path = MAIN_FOLDER + 'precision_recall_curve_{}.svg'.format(datetime.datetime.now().isoformat())\n",
        "\n",
        "plt.show()"
      ],
      "execution_count": null,
      "outputs": [
        {
          "output_type": "display_data",
          "data": {
            "image/png": "[encoded data removed]",
            "text/plain": [
              "<Figure size 432x288 with 1 Axes>"
            ]
          },
          "metadata": {
            "tags": [],
            "needs_background": "light"
          }
        }
      ]
    },
    {
      "cell_type": "code",
      "metadata": {
        "id": "15f3r918wzgF"
      },
      "source": [
        "from sklearn.metrics import roc_curve, auc\n",
        "\n",
        "\n",
        "def plot_roc(pred,y):\n",
        "    fpr, tpr, _ = roc_curve(y, pred)\n",
        "    roc_auc = auc(fpr, tpr)\n",
        "\n",
        "    plt.figure()\n",
        "   \n",
        "    plt.plot(fpr, tpr, label='ROC curve (AUC = %0.2f)' % roc_auc)\n",
        "    plt.plot([0, 1], [0, 1], 'k--', label='Chance')\n",
        "    plt.xlim([0.0, 1.0])\n",
        "    plt.ylim([0.0, 1.05])\n",
        "    plt.xlabel('False Positive Rate')\n",
        "    plt.ylabel('True Positive Rate')\n",
        "    plt.title('Receiver Operating Characteristic (ROC)')\n",
        "    plt.legend(loc=\"lower right\")\n",
        " "
      ],
      "execution_count": null,
      "outputs": []
    },
    {
      "cell_type": "code",
      "metadata": {
        "colab": {
          "base_uri": "https://localhost:8080/",
          "height": 295
        },
        "id": "me22YfVDsjAi",
        "outputId": "508dc312-6cf4-40a0-988b-4fd985a21665"
      },
      "source": [
        "plot_roc( y_pred, test_labels )"
      ],
      "execution_count": null,
      "outputs": [
        {
          "output_type": "display_data",
          "data": {
            "image/png": "[encoded data removed]",
            "text/plain": [
              "<Figure size 432x288 with 1 Axes>"
            ]
          },
          "metadata": {
            "tags": [],
            "needs_background": "light"
          }
        }
      ]
    },
    {
      "cell_type": "code",
      "metadata": {
        "id": "Tgl3zLTXjZ0O"
      },
      "source": [
        "sourcecode_model.save(\"/content/drive/MyDrive/PlagiarismChecker/PlagiarismChecker.h5\")\n",
        "#or\n",
        "#model.save('path/to/location')"
      ],
      "execution_count": null,
      "outputs": []
    },
    {
      "cell_type": "code",
      "metadata": {
        "id": "BaneSwcivpCQ",
        "colab": {
          "base_uri": "https://localhost:8080/",
          "height": 206
        },
        "outputId": "e60f0732-b357-401d-d01e-4ceacfe13f77"
      },
      "source": [
        "dataset_df.head()"
      ],
      "execution_count": null,
      "outputs": [
        {
          "output_type": "execute_result",
          "data": {
            "text/html": [
              "<div>\n",
              "<style scoped>\n",
              "    .dataframe tbody tr th:only-of-type {\n",
              "        vertical-align: middle;\n",
              "    }\n",
              "\n",
              "    .dataframe tbody tr th {\n",
              "        vertical-align: top;\n",
              "    }\n",
              "\n",
              "    .dataframe thead th {\n",
              "        text-align: right;\n",
              "    }\n",
              "</style>\n",
              "<table border=\"1\" class=\"dataframe\">\n",
              "  <thead>\n",
              "    <tr style=\"text-align: right;\">\n",
              "      <th></th>\n",
              "      <th>0</th>\n",
              "      <th>1</th>\n",
              "      <th>2</th>\n",
              "    </tr>\n",
              "  </thead>\n",
              "  <tbody>\n",
              "    <tr>\n",
              "      <th>0</th>\n",
              "      <td>1</td>\n",
              "      <td>sinkEventAttributeSet.addAttribute( \"key\", \"v...</td>\n",
              "      <td>sinkEventAttributeSet.addAttribute( \"key\", \"v...</td>\n",
              "    </tr>\n",
              "    <tr>\n",
              "      <th>1</th>\n",
              "      <td>1</td>\n",
              "      <td>Intent intentScan = new Intent(\"org.torprojec...</td>\n",
              "      <td>Intent XXXXX = new Intent(\"org.torproject.and...</td>\n",
              "    </tr>\n",
              "    <tr>\n",
              "      <th>2</th>\n",
              "      <td>1</td>\n",
              "      <td>StringBuilder sb = new StringBuilder(); sb.ap...</td>\n",
              "      <td>StringBuilder sb = new StringBuilder(); sb.ap...</td>\n",
              "    </tr>\n",
              "    <tr>\n",
              "      <th>3</th>\n",
              "      <td>1</td>\n",
              "      <td>int count = getCount(matcher); if (idx &lt; -cou...</td>\n",
              "      <td>int XXXXX = getCount(matcher); if (idx &lt; -XXX...</td>\n",
              "    </tr>\n",
              "    <tr>\n",
              "      <th>4</th>\n",
              "      <td>0</td>\n",
              "      <td>int m = 2; String s = loremIpsum.paragraph();...</td>\n",
              "      <td>exp.accept(new FindLevelsVisitor(substitution...</td>\n",
              "    </tr>\n",
              "  </tbody>\n",
              "</table>\n",
              "</div>"
            ],
            "text/plain": [
              "   0  ...                                                  2\n",
              "0  1  ...   sinkEventAttributeSet.addAttribute( \"key\", \"v...\n",
              "1  1  ...   Intent XXXXX = new Intent(\"org.torproject.and...\n",
              "2  1  ...   StringBuilder sb = new StringBuilder(); sb.ap...\n",
              "3  1  ...   int XXXXX = getCount(matcher); if (idx < -XXX...\n",
              "4  0  ...   exp.accept(new FindLevelsVisitor(substitution...\n",
              "\n",
              "[5 rows x 3 columns]"
            ]
          },
          "metadata": {
            "tags": []
          },
          "execution_count": 53
        }
      ]
    }
  ]
}